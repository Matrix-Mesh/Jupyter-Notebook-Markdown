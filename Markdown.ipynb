{
 "cells": [
  {
   "cell_type": "markdown",
   "id": "175911a2-759a-403e-9915-8ca54b8c9a2f",
   "metadata": {},
   "source": [
    "Here we will list all the Markdown in jupyter notebook."
   ]
  },
  {
   "cell_type": "markdown",
   "id": "c8a62cd7-28b2-4397-aa1e-b528def744b2",
   "metadata": {},
   "source": [
    "**This is a Bold text**"
   ]
  },
  {
   "cell_type": "markdown",
   "id": "b1c059c3-fd97-499b-a921-c8d1360813d9",
   "metadata": {},
   "source": [
    "__This is also a Bold text__"
   ]
  },
  {
   "cell_type": "markdown",
   "id": "82ffaae5-e943-4f48-a8a5-73b699333511",
   "metadata": {},
   "source": [
    "_This is an Italic Text_"
   ]
  },
  {
   "cell_type": "markdown",
   "id": "76a669ec-7fb1-4d23-b486-19a5340a4478",
   "metadata": {},
   "source": [
    "**_This is both Bold and Italic_**"
   ]
  },
  {
   "cell_type": "markdown",
   "id": "d0d42248-8dea-49ca-81e9-3392e80485f4",
   "metadata": {},
   "source": [
    "***This is also both Bold and Italic***"
   ]
  },
  {
   "cell_type": "markdown",
   "id": "ede630e9-7381-4a6e-83e6-5c3e58836a4a",
   "metadata": {},
   "source": [
    "~This is Strikethrough~"
   ]
  },
  {
   "cell_type": "raw",
   "id": "f80d7398-db3d-4374-b12a-2681dd738d01",
   "metadata": {},
   "source": [
    "Below is a Soft Break usage in a paragraph"
   ]
  },
  {
   "cell_type": "markdown",
   "id": "8e028ccf-3088-4dc0-9edb-cafab98df465",
   "metadata": {},
   "source": [
    "The gentle hum of the city's night life filled the air as the sun dipped below the horizon,   \n",
    "casting long shadows across the   bustling streets.  \n",
    "Neon signs flickered to life, painting the surroundings with a kaleidoscope of colors.  \n",
    "People moved with   purpose, each immersed in their own world of thoughts and destinations.  "
   ]
  },
  {
   "cell_type": "markdown",
   "id": "30a081a0-5490-46b5-85ee-aff50ff63f3d",
   "metadata": {},
   "source": [
    "\\# Not a Header"
   ]
  },
  {
   "cell_type": "markdown",
   "id": "3ad30f74-2c78-4e36-ad17-205d78b0fa78",
   "metadata": {},
   "source": [
    "# This is an H1 Header"
   ]
  },
  {
   "cell_type": "markdown",
   "id": "499631c5-f99a-4dc9-b5a2-f79ea527bf78",
   "metadata": {},
   "source": [
    "## This is an H2 Header"
   ]
  },
  {
   "cell_type": "markdown",
   "id": "22590270-c0fe-4717-a8fe-3c65a8871a4a",
   "metadata": {},
   "source": [
    "### This is an H3 Header"
   ]
  },
  {
   "cell_type": "markdown",
   "id": "c12d9ef0-5733-414d-9741-835abf8a28e9",
   "metadata": {},
   "source": [
    "#### This is an H4 Header"
   ]
  },
  {
   "cell_type": "markdown",
   "id": "a32fe0c6-c9aa-4300-b65f-313da1de1fcc",
   "metadata": {},
   "source": [
    "##### This is an H5 Header"
   ]
  },
  {
   "cell_type": "markdown",
   "id": "f7e3d45d-8015-4752-a447-cdbae1fdf0c3",
   "metadata": {},
   "source": [
    "[This is the link for Wikipedia](https://www.wikipedia.org/)"
   ]
  },
  {
   "cell_type": "markdown",
   "id": "fe119002-388d-45af-a47b-72f577c4a88d",
   "metadata": {},
   "source": [
    "![This is the image of a F1 Racing Car](https://cdn-6.motorsport.com/images/amp/Y99eZpLY/s1000/formula-1-japanese-gp-2023-lew-2.jpg)"
   ]
  },
  {
   "cell_type": "markdown",
   "id": "e51617ac-021e-4de6-b156-d6df0452ce62",
   "metadata": {},
   "source": [
    "**Example of Simple Block Quotes**"
   ]
  },
  {
   "cell_type": "markdown",
   "id": "94b5dcf9-648b-4a5a-84a4-b44aed3806c5",
   "metadata": {},
   "source": [
    "> Think of what you have rather than of what you lack. Of the things you have, select the best and then reflect how eagerly you would have sought them if you did not have them. **Marcus Aurelius**"
   ]
  },
  {
   "cell_type": "markdown",
   "id": "4df2c3fa-68e4-41fa-a3aa-62949671807d",
   "metadata": {},
   "source": [
    "**Nested Block Quoting**"
   ]
  },
  {
   "cell_type": "markdown",
   "id": "5b070454-71da-4afa-9e49-35ed15d3af3d",
   "metadata": {},
   "source": [
    "> some text\n",
    ">> and then some more text\n",
    ">>> and then some more"
   ]
  },
  {
   "cell_type": "markdown",
   "id": "236850a7-c2d3-49d4-a1f9-e5bd148621c4",
   "metadata": {},
   "source": [
    "**Some Horizontal Lines**"
   ]
  },
  {
   "cell_type": "markdown",
   "id": "da15e00a-4959-4458-9aee-2d4efab753a5",
   "metadata": {},
   "source": [
    "---\n",
    "___\n",
    "***"
   ]
  },
  {
   "cell_type": "markdown",
   "id": "39f0d536-02b4-4440-9888-86b06d8c0520",
   "metadata": {},
   "source": [
    "***Ordered List***"
   ]
  },
  {
   "cell_type": "markdown",
   "id": "6dba9f7e-2497-4140-b881-4415eee71d4e",
   "metadata": {},
   "source": [
    "1. Item one\n",
    "2. Item two\n",
    "3. Item three"
   ]
  },
  {
   "cell_type": "markdown",
   "id": "053e0f15-6f9e-4e00-b691-4fb05d473cc1",
   "metadata": {},
   "source": [
    "****Unordered List****"
   ]
  },
  {
   "cell_type": "markdown",
   "id": "e548ea1a-f29c-45b2-a5b5-cb8bbf34c3a4",
   "metadata": {},
   "source": [
    "* Item one\n",
    "* Item two\n",
    "* Item three"
   ]
  },
  {
   "cell_type": "markdown",
   "id": "8a5eebba-b713-4b8b-ab4a-db8ef21ab2d0",
   "metadata": {},
   "source": [
    "**Nested List**"
   ]
  },
  {
   "cell_type": "markdown",
   "id": "bdd65990-1135-43be-9493-ebe3ebc284fc",
   "metadata": {},
   "source": [
    "* Item one\n",
    "   1. Subitem one\n",
    "   2. Subitem two\n",
    "      * Level three\n",
    "      * Level four\n",
    "* Item two\n",
    "   * Level two\n",
    "   * Another Level two\n",
    "* Item three"
   ]
  },
  {
   "cell_type": "markdown",
   "id": "317032e0-6a51-40b9-8ebb-a46417148c7f",
   "metadata": {},
   "source": [
    "`some piece of inline code`\r\n",
    "```\r\n",
    "some piece of block code\r\n",
    "```"
   ]
  },
  {
   "cell_type": "markdown",
   "id": "3a366d63-7f5b-4dab-a8f9-3e8972b250db",
   "metadata": {},
   "source": [
    "**This is a table**"
   ]
  },
  {
   "cell_type": "markdown",
   "id": "cfb83c67-c2e9-43fb-a805-426a0e1b9086",
   "metadata": {},
   "source": [
    "|Header|Header|Header|\n",
    "|------|------|------|\n",
    "|A     |B     |C     |\n",
    "|X     |Y     |Z     |"
   ]
  },
  {
   "cell_type": "markdown",
   "id": "b88418f2-d373-42de-821d-13453996f3d2",
   "metadata": {},
   "source": [
    "**Example of Mathematical Symbols and Equations**"
   ]
  },
  {
   "cell_type": "markdown",
   "id": "f42f1bde-d96c-4f14-9801-c54ae667d3eb",
   "metadata": {},
   "source": [
    "\\$\\sqrt{k}$"
   ]
  },
  {
   "cell_type": "markdown",
   "id": "ac50b366-37ed-4f8a-993b-1132eb837f78",
   "metadata": {},
   "source": [
    "\\$sum{2}$"
   ]
  },
  {
   "cell_type": "markdown",
   "id": "ff9d9378-e7e9-426f-bb8a-ee523a68fc35",
   "metadata": {},
   "source": [
    "$y = mx + c$"
   ]
  }
 ],
 "metadata": {
  "kernelspec": {
   "display_name": "Python 3 (ipykernel)",
   "language": "python",
   "name": "python3"
  },
  "language_info": {
   "codemirror_mode": {
    "name": "ipython",
    "version": 3
   },
   "file_extension": ".py",
   "mimetype": "text/x-python",
   "name": "python",
   "nbconvert_exporter": "python",
   "pygments_lexer": "ipython3",
   "version": "3.11.7"
  },
  "widgets": {
   "application/vnd.jupyter.widget-state+json": {
    "state": {},
    "version_major": 2,
    "version_minor": 0
   }
  }
 },
 "nbformat": 4,
 "nbformat_minor": 5
}
